{
 "cells": [
  {
   "attachments": {},
   "cell_type": "markdown",
   "metadata": {},
   "source": [
    "# Дисциплина «Искусственный интеллект»"
   ]
  },
  {
   "attachments": {},
   "cell_type": "markdown",
   "metadata": {},
   "source": [
    "## Рабочая тетрадь №6"
   ]
  },
  {
   "attachments": {},
   "cell_type": "markdown",
   "metadata": {},
   "source": [
    "### Библиотеки"
   ]
  },
  {
   "cell_type": "code",
   "execution_count": 2,
   "metadata": {},
   "outputs": [],
   "source": [
    "import networkx as nx\n",
    "from math import e"
   ]
  },
  {
   "attachments": {},
   "cell_type": "markdown",
   "metadata": {},
   "source": [
    "### Задание 1.1.1"
   ]
  },
  {
   "cell_type": "code",
   "execution_count": null,
   "metadata": {},
   "outputs": [
    {
     "name": "stdout",
     "output_type": "stream",
     "text": [
      "max_1_step: -2.571428571428571\n",
      "max_2_step: -0.22349709114414995\n",
      "max_3_step: 0.4907886231415643\n",
      "max_4_step: 0.7260827407886232\n",
      "max Z: 0.23529411764705882\n"
     ]
    }
   ],
   "source": [
    "def qZ(x, y):\n",
    "    return (x - 3 * y - 3) / (x**2 + 2 * y**2 + 1)\n",
    "\n",
    "def qSumZ(Z):\n",
    "    return sum(Z)\n",
    "\n",
    "def exchangeScheme(oldX, oldY, sortedId):\n",
    "    X = [0 for i in range(4)]\n",
    "    Y = [0 for i in range(4)]\n",
    "\n",
    "    X[2] = oldX[sortedId[2]]\n",
    "    X[3] = oldX[sortedId[2]]\n",
    "\n",
    "    X[0] = oldX[sortedId[0]]\n",
    "\n",
    "    X[1] = oldX[sortedId[1]]\n",
    "\n",
    "    Y[0] = oldY[sortedId[2]]\n",
    "    Y[1] = oldY[sortedId[2]]\n",
    "\n",
    "    Y[2] = oldY[sortedId[0]]\n",
    "\n",
    "    Y[3] = oldY[sortedId[1]]\n",
    "\n",
    "    return X, Y\n",
    "\n",
    "def sorting(Z):\n",
    "    sortedId = sorted(range(len(Z)), key = lambda k: Z[k])\n",
    "    return sortedId\n",
    "\n",
    "def evoStep(X, Y, Z):\n",
    "    _, minId = min((value, id) for (id, value) in enumerate(Z))\n",
    "    X = X[:]\n",
    "    Y = Y[:]\n",
    "    Z = Z[:]\n",
    "\n",
    "    X.pop(minId)\n",
    "    Y.pop(minId)\n",
    "    Z.pop(minId)\n",
    "\n",
    "    return X, Y, Z\n",
    "\n",
    "def evoSteps(X, Y, stepsNum = 4):\n",
    "    results = []\n",
    "    \n",
    "    for i in range(4):\n",
    "        arrZ = [qZ(x, Y[i]) for i, x in enumerate(X)]\n",
    "\n",
    "        X, Y, Z = evoStep(X, Y, arrZ)\n",
    "        X, Y = exchangeScheme(X, Y, sorting(Z))\n",
    "        results.append([X, Y, qSumZ(arrZ), arrZ])\n",
    "\n",
    "    return X, Y, results\n",
    "\n",
    "X = [5, -3, -2, -1]\n",
    "Y = [-1, -2, 0, 1]\n",
    "results = evoSteps(X, Y)\n",
    "\n",
    "for i in range(len(results[2])):\n",
    "    print(f'max_{i+1}_step: {results[2][i][2]}')\n",
    "\n",
    "qualityArrZ = []\n",
    "for i in range(len(results[2])):\n",
    "    qualityArrZ += results[2][i][3]\n",
    "\n",
    "print(f'max Z: {max(qualityArrZ)}')"
   ]
  },
  {
   "attachments": {},
   "cell_type": "markdown",
   "metadata": {},
   "source": [
    "### Задание 1.2.1"
   ]
  },
  {
   "cell_type": "code",
   "execution_count": 25,
   "metadata": {},
   "outputs": [
    {
     "name": "stdout",
     "output_type": "stream",
     "text": [
      "Лучший выбранный маршрут: [1, 5, 2, 3, 4, 6, 1]\n",
      "Длинна лучшего выбранного маршрута: 148\n",
      "Длины всех рассмотренных маршрутов: [177, 148, 157, 156, 163]\n"
     ]
    },
    {
     "data": {
      "image/png": "[encoded data removed]",
      "text/plain": [
       "<Figure size 640x480 with 1 Axes>"
      ]
     },
     "metadata": {},
     "output_type": "display_data"
    }
   ],
   "source": [
    "distances = [(1, 2, 19),\n",
    "             (1, 3, 39),\n",
    "             (1, 4, 35),\n",
    "             (1, 5, 26),\n",
    "             (1, 6, 18),\n",
    "             (2, 3, 26),\n",
    "             (2, 4, 33),\n",
    "             (2, 5, 37),\n",
    "             (2, 6, 14),\n",
    "             (3, 4, 22),\n",
    "             (3, 5, 41),\n",
    "             (3, 6, 21),\n",
    "             (4, 5, 22),\n",
    "             (4, 6, 19),\n",
    "             (5, 6, 24)]\n",
    "\n",
    "V = [1, 4, 2, 3, 5, 6, 1]\n",
    "Z = [(5, 2),\n",
    "     (4, 5),\n",
    "     (2, 3),\n",
    "     (3, 4)]\n",
    "P = [88, 54, 24, 64]\n",
    "\n",
    "T = 100\n",
    "\n",
    "def probability(delta, T):\n",
    "    return 100 * e * (-delta / T)\n",
    "\n",
    "def reductTemp(prevT):\n",
    "    nextT = 0.5 * prevT\n",
    "    return nextT\n",
    "\n",
    "#graph = nx.Graph()\n",
    "#graph.add_weighted_edges_from(distances)\n",
    "\n",
    "# nx.draw_kamada_kawai(graph, node_color='#fb7258', node_size=2000, with_labels=True)\n",
    "\n",
    "def edgeLength(i, j, distances, roundTrip=True):\n",
    "    if roundTrip:\n",
    "        return max([item[2] if (item[0] == i and item[1] == j) or (item[1] == i and item[0] == j) else - 1 for item in distances])\n",
    "    else:\n",
    "        return max([item[2] if (item[0] == i and item[1] == j) else - 1 for item in distances])\n",
    "    \n",
    "def routeLength(V, distances):\n",
    "    edges = []\n",
    "\n",
    "    for i in range(len(V) - 1):\n",
    "        edges.append(edgeLength(V[i], V[i + 1], distances))\n",
    "\n",
    "    return sum(edges)\n",
    "\n",
    "def routeOneReplacement(arrV, Z, replacementByName=True):\n",
    "    decrement = 1 if replacementByName else 0\n",
    "    arrV[Z[0] - decrement], arrV[Z[1] - decrement] = arrV[Z[1] - decrement], arrV[Z[0] - decrement]\n",
    "    return arrV\n",
    "\n",
    "def routeReplacement(V, Z):\n",
    "    for z in Z:\n",
    "        V = routeOneReplacement(V, z)\n",
    "    return V\n",
    "\n",
    "def chooseRoute(distances, V, Z, T, P):\n",
    "    sumLength = routeLength(V, distances)\n",
    "    arrSum = [sumLength]\n",
    "\n",
    "    for i in range(len(Z)):\n",
    "        newV = routeOneReplacement(V[:], Z[i])\n",
    "        newS = routeLength(newV, distances)\n",
    "        arrSum.append(newS)\n",
    "        deltaS = newS - sumLength\n",
    "\n",
    "        if deltaS > 0:\n",
    "            p = probability(deltaS, T)\n",
    "            if p > P[i]:\n",
    "                V = newV\n",
    "                sumLength = newS\n",
    "        else:\n",
    "            V = newV\n",
    "            sumLength = newS\n",
    "\n",
    "        T = reductTemp(T)\n",
    "\n",
    "    return V, arrSum\n",
    "\n",
    "def drawRouteGraph(distances, bestRoute):\n",
    "    newDistances = []\n",
    "    for i in range(len(bestRoute) - 1):\n",
    "        for distance in distances:\n",
    "            if (distance[0] == bestRoute[i] and distance[1] == bestRoute[i + 1]) or (distance[1] == bestRoute[i] and distance[0] == bestRoute[i + 1]):\n",
    "                newDistances.append(distance)\n",
    "\n",
    "    graph = nx.Graph()\n",
    "\n",
    "    graph.add_weighted_edges_from(newDistances)\n",
    "    nx.draw_kamada_kawai(graph, node_color='#fb7258', node_size=2000, with_labels=True)\n",
    "\n",
    "bestRoute, arrLength = chooseRoute(distances, V, Z, T, P)\n",
    "\n",
    "print(f'Лучший выбранный маршрут: {bestRoute}')\n",
    "print(f'Длинна лучшего выбранного маршрута: {routeLength(bestRoute, distances)}')\n",
    "print(f'Длины всех рассмотренных маршрутов: {arrLength}')\n",
    "\n",
    "drawRouteGraph(distances, bestRoute)"
   ]
  }
 ],
 "metadata": {
  "kernelspec": {
   "display_name": "Python 3",
   "language": "python",
   "name": "python3"
  },
  "language_info": {
   "codemirror_mode": {
    "name": "ipython",
    "version": 3
   },
   "file_extension": ".py",
   "mimetype": "text/x-python",
   "name": "python",
   "nbconvert_exporter": "python",
   "pygments_lexer": "ipython3",
   "version": "3.11.1"
  },
  "orig_nbformat": 4
 },
 "nbformat": 4,
 "nbformat_minor": 2
}
